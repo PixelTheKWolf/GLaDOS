{
 "cells": [
  {
   "cell_type": "code",
   "execution_count": 2,
   "metadata": {},
   "outputs": [],
   "source": [
    "from onnxmltools.utils.float16_converter import convert_float_to_float16\n",
    "import onnx\n",
    "\n"
   ]
  },
  {
   "cell_type": "code",
   "execution_count": 3,
   "metadata": {},
   "outputs": [
    {
     "name": "stderr",
     "output_type": "stream",
     "text": [
      "/Users/david/Documents/GlaDOS/.venv/lib/python3.12/site-packages/onnxconverter_common/float16.py:43: UserWarning: the float32 number 3.57891742908123e-08 will be truncated to 1e-07\n",
      "  warnings.warn(\"the float32 number {} will be truncated to {}\".format(pos_min, min_positive_val))\n",
      "/Users/david/Documents/GlaDOS/.venv/lib/python3.12/site-packages/onnxconverter_common/float16.py:43: UserWarning: the float32 number 8.047367572316944e-08 will be truncated to 1e-07\n",
      "  warnings.warn(\"the float32 number {} will be truncated to {}\".format(pos_min, min_positive_val))\n",
      "/Users/david/Documents/GlaDOS/.venv/lib/python3.12/site-packages/onnxconverter_common/float16.py:43: UserWarning: the float32 number 5.8191403695673216e-08 will be truncated to 1e-07\n",
      "  warnings.warn(\"the float32 number {} will be truncated to {}\".format(pos_min, min_positive_val))\n",
      "/Users/david/Documents/GlaDOS/.venv/lib/python3.12/site-packages/onnxconverter_common/float16.py:43: UserWarning: the float32 number 4.715208490324585e-08 will be truncated to 1e-07\n",
      "  warnings.warn(\"the float32 number {} will be truncated to {}\".format(pos_min, min_positive_val))\n",
      "/Users/david/Documents/GlaDOS/.venv/lib/python3.12/site-packages/onnxconverter_common/float16.py:53: UserWarning: the float32 number -9.86584254292211e-08 will be truncated to -1e-07\n",
      "  warnings.warn(\"the float32 number {} will be truncated to {}\".format(neg_max, -min_positive_val))\n",
      "/Users/david/Documents/GlaDOS/.venv/lib/python3.12/site-packages/onnxconverter_common/float16.py:53: UserWarning: the float32 number -3.9657930273051534e-08 will be truncated to -1e-07\n",
      "  warnings.warn(\"the float32 number {} will be truncated to {}\".format(neg_max, -min_positive_val))\n",
      "/Users/david/Documents/GlaDOS/.venv/lib/python3.12/site-packages/onnxconverter_common/float16.py:43: UserWarning: the float32 number 8.207592827602639e-08 will be truncated to 1e-07\n",
      "  warnings.warn(\"the float32 number {} will be truncated to {}\".format(pos_min, min_positive_val))\n",
      "/Users/david/Documents/GlaDOS/.venv/lib/python3.12/site-packages/onnxconverter_common/float16.py:43: UserWarning: the float32 number 1.265258742222386e-08 will be truncated to 1e-07\n",
      "  warnings.warn(\"the float32 number {} will be truncated to {}\".format(pos_min, min_positive_val))\n",
      "/Users/david/Documents/GlaDOS/.venv/lib/python3.12/site-packages/onnxconverter_common/float16.py:43: UserWarning: the float32 number 3.4652995140049825e-08 will be truncated to 1e-07\n",
      "  warnings.warn(\"the float32 number {} will be truncated to {}\".format(pos_min, min_positive_val))\n",
      "/Users/david/Documents/GlaDOS/.venv/lib/python3.12/site-packages/onnxconverter_common/float16.py:43: UserWarning: the float32 number 9.437591153016456e-09 will be truncated to 1e-07\n",
      "  warnings.warn(\"the float32 number {} will be truncated to {}\".format(pos_min, min_positive_val))\n",
      "/Users/david/Documents/GlaDOS/.venv/lib/python3.12/site-packages/onnxconverter_common/float16.py:43: UserWarning: the float32 number 3.635306811133887e-08 will be truncated to 1e-07\n",
      "  warnings.warn(\"the float32 number {} will be truncated to {}\".format(pos_min, min_positive_val))\n",
      "/Users/david/Documents/GlaDOS/.venv/lib/python3.12/site-packages/onnxconverter_common/float16.py:53: UserWarning: the float32 number -4.4869089776966575e-08 will be truncated to -1e-07\n",
      "  warnings.warn(\"the float32 number {} will be truncated to {}\".format(neg_max, -min_positive_val))\n",
      "/Users/david/Documents/GlaDOS/.venv/lib/python3.12/site-packages/onnxconverter_common/float16.py:43: UserWarning: the float32 number 2.3129315351866353e-08 will be truncated to 1e-07\n",
      "  warnings.warn(\"the float32 number {} will be truncated to {}\".format(pos_min, min_positive_val))\n",
      "/Users/david/Documents/GlaDOS/.venv/lib/python3.12/site-packages/onnxconverter_common/float16.py:53: UserWarning: the float32 number -8.143820906525434e-08 will be truncated to -1e-07\n",
      "  warnings.warn(\"the float32 number {} will be truncated to {}\".format(neg_max, -min_positive_val))\n",
      "/Users/david/Documents/GlaDOS/.venv/lib/python3.12/site-packages/onnxconverter_common/float16.py:53: UserWarning: the float32 number -3.302190876297573e-08 will be truncated to -1e-07\n",
      "  warnings.warn(\"the float32 number {} will be truncated to {}\".format(neg_max, -min_positive_val))\n",
      "/Users/david/Documents/GlaDOS/.venv/lib/python3.12/site-packages/onnxconverter_common/float16.py:43: UserWarning: the float32 number 8.456164835024538e-08 will be truncated to 1e-07\n",
      "  warnings.warn(\"the float32 number {} will be truncated to {}\".format(pos_min, min_positive_val))\n",
      "/Users/david/Documents/GlaDOS/.venv/lib/python3.12/site-packages/onnxconverter_common/float16.py:53: UserWarning: the float32 number -5.334732477990656e-08 will be truncated to -1e-07\n",
      "  warnings.warn(\"the float32 number {} will be truncated to {}\".format(neg_max, -min_positive_val))\n",
      "/Users/david/Documents/GlaDOS/.venv/lib/python3.12/site-packages/onnxconverter_common/float16.py:43: UserWarning: the float32 number 5.833302552105124e-08 will be truncated to 1e-07\n",
      "  warnings.warn(\"the float32 number {} will be truncated to {}\".format(pos_min, min_positive_val))\n",
      "/Users/david/Documents/GlaDOS/.venv/lib/python3.12/site-packages/onnxconverter_common/float16.py:43: UserWarning: the float32 number 5.6312776663958175e-09 will be truncated to 1e-07\n",
      "  warnings.warn(\"the float32 number {} will be truncated to {}\".format(pos_min, min_positive_val))\n",
      "/Users/david/Documents/GlaDOS/.venv/lib/python3.12/site-packages/onnxconverter_common/float16.py:53: UserWarning: the float32 number -5.2017828267025834e-08 will be truncated to -1e-07\n",
      "  warnings.warn(\"the float32 number {} will be truncated to {}\".format(neg_max, -min_positive_val))\n",
      "/Users/david/Documents/GlaDOS/.venv/lib/python3.12/site-packages/onnxconverter_common/float16.py:53: UserWarning: the float32 number -3.477080401381727e-09 will be truncated to -1e-07\n",
      "  warnings.warn(\"the float32 number {} will be truncated to {}\".format(neg_max, -min_positive_val))\n",
      "/Users/david/Documents/GlaDOS/.venv/lib/python3.12/site-packages/onnxconverter_common/float16.py:43: UserWarning: the float32 number 9.463740013870847e-08 will be truncated to 1e-07\n",
      "  warnings.warn(\"the float32 number {} will be truncated to {}\".format(pos_min, min_positive_val))\n",
      "/Users/david/Documents/GlaDOS/.venv/lib/python3.12/site-packages/onnxconverter_common/float16.py:53: UserWarning: the float32 number -9.022497948762975e-08 will be truncated to -1e-07\n",
      "  warnings.warn(\"the float32 number {} will be truncated to {}\".format(neg_max, -min_positive_val))\n",
      "/Users/david/Documents/GlaDOS/.venv/lib/python3.12/site-packages/onnxconverter_common/float16.py:53: UserWarning: the float32 number -2.110147789835537e-08 will be truncated to -1e-07\n",
      "  warnings.warn(\"the float32 number {} will be truncated to {}\".format(neg_max, -min_positive_val))\n",
      "/Users/david/Documents/GlaDOS/.venv/lib/python3.12/site-packages/onnxconverter_common/float16.py:43: UserWarning: the float32 number 1.53225627741449e-08 will be truncated to 1e-07\n",
      "  warnings.warn(\"the float32 number {} will be truncated to {}\".format(pos_min, min_positive_val))\n",
      "/Users/david/Documents/GlaDOS/.venv/lib/python3.12/site-packages/onnxconverter_common/float16.py:53: UserWarning: the float32 number -4.6951825538599223e-08 will be truncated to -1e-07\n",
      "  warnings.warn(\"the float32 number {} will be truncated to {}\".format(neg_max, -min_positive_val))\n",
      "/Users/david/Documents/GlaDOS/.venv/lib/python3.12/site-packages/onnxconverter_common/float16.py:43: UserWarning: the float32 number 3.740738563351442e-08 will be truncated to 1e-07\n",
      "  warnings.warn(\"the float32 number {} will be truncated to {}\".format(pos_min, min_positive_val))\n",
      "/Users/david/Documents/GlaDOS/.venv/lib/python3.12/site-packages/onnxconverter_common/float16.py:50: UserWarning: the float32 number -10000.0 will be truncated to -10000.0\n",
      "  warnings.warn(\"the float32 number {} will be truncated to {}\".format(neg_min, -max_finite_val))\n"
     ]
    }
   ],
   "source": [
    "# Load and convert the model\n",
    "model = onnx.load(\"models/nemo-parakeet_tdt_ctc_110m.onnx\")\n",
    "model_fp16 = convert_float_to_float16(model)\n",
    "onnx.save_model(model_fp16, \"models/nemo-parakeet_tdt_ctc_110m_fp16.onnx\")"
   ]
  },
  {
   "cell_type": "code",
   "execution_count": 4,
   "metadata": {},
   "outputs": [
    {
     "name": "stderr",
     "output_type": "stream",
     "text": [
      "/Users/david/Documents/GlaDOS/.venv/lib/python3.12/site-packages/onnxconverter_common/float16.py:53: UserWarning: the float32 number -9.19255214171244e-08 will be truncated to -1e-07\n",
      "  warnings.warn(\"the float32 number {} will be truncated to {}\".format(neg_max, -min_positive_val))\n",
      "/Users/david/Documents/GlaDOS/.venv/lib/python3.12/site-packages/onnxconverter_common/float16.py:43: UserWarning: the float32 number 9.774529985406843e-08 will be truncated to 1e-07\n",
      "  warnings.warn(\"the float32 number {} will be truncated to {}\".format(pos_min, min_positive_val))\n",
      "/Users/david/Documents/GlaDOS/.venv/lib/python3.12/site-packages/onnxconverter_common/float16.py:53: UserWarning: the float32 number -6.925046847072736e-08 will be truncated to -1e-07\n",
      "  warnings.warn(\"the float32 number {} will be truncated to {}\".format(neg_max, -min_positive_val))\n",
      "/Users/david/Documents/GlaDOS/.venv/lib/python3.12/site-packages/onnxconverter_common/float16.py:53: UserWarning: the float32 number -5.226766575106012e-08 will be truncated to -1e-07\n",
      "  warnings.warn(\"the float32 number {} will be truncated to {}\".format(neg_max, -min_positive_val))\n",
      "/Users/david/Documents/GlaDOS/.venv/lib/python3.12/site-packages/onnxconverter_common/float16.py:53: UserWarning: the float32 number -5.1852406812713525e-08 will be truncated to -1e-07\n",
      "  warnings.warn(\"the float32 number {} will be truncated to {}\".format(neg_max, -min_positive_val))\n",
      "/Users/david/Documents/GlaDOS/.venv/lib/python3.12/site-packages/onnxconverter_common/float16.py:43: UserWarning: the float32 number 2.0724563398744067e-08 will be truncated to 1e-07\n",
      "  warnings.warn(\"the float32 number {} will be truncated to {}\".format(pos_min, min_positive_val))\n",
      "/Users/david/Documents/GlaDOS/.venv/lib/python3.12/site-packages/onnxconverter_common/float16.py:53: UserWarning: the float32 number -7.422371339771416e-08 will be truncated to -1e-07\n",
      "  warnings.warn(\"the float32 number {} will be truncated to {}\".format(neg_max, -min_positive_val))\n",
      "/Users/david/Documents/GlaDOS/.venv/lib/python3.12/site-packages/onnxconverter_common/float16.py:43: UserWarning: the float32 number 1.0361573821171532e-08 will be truncated to 1e-07\n",
      "  warnings.warn(\"the float32 number {} will be truncated to {}\".format(pos_min, min_positive_val))\n",
      "/Users/david/Documents/GlaDOS/.venv/lib/python3.12/site-packages/onnxconverter_common/float16.py:53: UserWarning: the float32 number -1.0828174801247314e-08 will be truncated to -1e-07\n",
      "  warnings.warn(\"the float32 number {} will be truncated to {}\".format(neg_max, -min_positive_val))\n",
      "/Users/david/Documents/GlaDOS/.venv/lib/python3.12/site-packages/onnxconverter_common/float16.py:53: UserWarning: the float32 number -7.10815939442e-08 will be truncated to -1e-07\n",
      "  warnings.warn(\"the float32 number {} will be truncated to {}\".format(neg_max, -min_positive_val))\n",
      "/Users/david/Documents/GlaDOS/.venv/lib/python3.12/site-packages/onnxconverter_common/float16.py:43: UserWarning: the float32 number 5.062693375634808e-08 will be truncated to 1e-07\n",
      "  warnings.warn(\"the float32 number {} will be truncated to {}\".format(pos_min, min_positive_val))\n",
      "/Users/david/Documents/GlaDOS/.venv/lib/python3.12/site-packages/onnxconverter_common/float16.py:53: UserWarning: the float32 number -8.538947326997004e-08 will be truncated to -1e-07\n",
      "  warnings.warn(\"the float32 number {} will be truncated to {}\".format(neg_max, -min_positive_val))\n",
      "/Users/david/Documents/GlaDOS/.venv/lib/python3.12/site-packages/onnxconverter_common/float16.py:43: UserWarning: the float32 number 1.9058710165609227e-08 will be truncated to 1e-07\n",
      "  warnings.warn(\"the float32 number {} will be truncated to {}\".format(pos_min, min_positive_val))\n",
      "/Users/david/Documents/GlaDOS/.venv/lib/python3.12/site-packages/onnxconverter_common/float16.py:53: UserWarning: the float32 number -4.5102332535407186e-08 will be truncated to -1e-07\n",
      "  warnings.warn(\"the float32 number {} will be truncated to {}\".format(neg_max, -min_positive_val))\n",
      "/Users/david/Documents/GlaDOS/.venv/lib/python3.12/site-packages/onnxconverter_common/float16.py:43: UserWarning: the float32 number 1.923469206133177e-08 will be truncated to 1e-07\n",
      "  warnings.warn(\"the float32 number {} will be truncated to {}\".format(pos_min, min_positive_val))\n",
      "/Users/david/Documents/GlaDOS/.venv/lib/python3.12/site-packages/onnxconverter_common/float16.py:53: UserWarning: the float32 number -5.45230420812004e-08 will be truncated to -1e-07\n",
      "  warnings.warn(\"the float32 number {} will be truncated to {}\".format(neg_max, -min_positive_val))\n",
      "/Users/david/Documents/GlaDOS/.venv/lib/python3.12/site-packages/onnxconverter_common/float16.py:43: UserWarning: the float32 number 3.6445435114274005e-08 will be truncated to 1e-07\n",
      "  warnings.warn(\"the float32 number {} will be truncated to {}\".format(pos_min, min_positive_val))\n",
      "/Users/david/Documents/GlaDOS/.venv/lib/python3.12/site-packages/onnxconverter_common/float16.py:43: UserWarning: the float32 number 1.074572875126023e-09 will be truncated to 1e-07\n",
      "  warnings.warn(\"the float32 number {} will be truncated to {}\".format(pos_min, min_positive_val))\n",
      "/Users/david/Documents/GlaDOS/.venv/lib/python3.12/site-packages/onnxconverter_common/float16.py:53: UserWarning: the float32 number -9.177860249565128e-09 will be truncated to -1e-07\n",
      "  warnings.warn(\"the float32 number {} will be truncated to {}\".format(neg_max, -min_positive_val))\n",
      "/Users/david/Documents/GlaDOS/.venv/lib/python3.12/site-packages/onnxconverter_common/float16.py:43: UserWarning: the float32 number 4.246339457836257e-08 will be truncated to 1e-07\n",
      "  warnings.warn(\"the float32 number {} will be truncated to {}\".format(pos_min, min_positive_val))\n",
      "/Users/david/Documents/GlaDOS/.venv/lib/python3.12/site-packages/onnxconverter_common/float16.py:53: UserWarning: the float32 number -5.946095171793786e-08 will be truncated to -1e-07\n",
      "  warnings.warn(\"the float32 number {} will be truncated to {}\".format(neg_max, -min_positive_val))\n",
      "/Users/david/Documents/GlaDOS/.venv/lib/python3.12/site-packages/onnxconverter_common/float16.py:43: UserWarning: the float32 number 4.502899164648966e-10 will be truncated to 1e-07\n",
      "  warnings.warn(\"the float32 number {} will be truncated to {}\".format(pos_min, min_positive_val))\n",
      "/Users/david/Documents/GlaDOS/.venv/lib/python3.12/site-packages/onnxconverter_common/float16.py:53: UserWarning: the float32 number -2.380581565208928e-10 will be truncated to -1e-07\n",
      "  warnings.warn(\"the float32 number {} will be truncated to {}\".format(neg_max, -min_positive_val))\n",
      "/Users/david/Documents/GlaDOS/.venv/lib/python3.12/site-packages/onnxconverter_common/float16.py:53: UserWarning: the float32 number -4.711585788186312e-08 will be truncated to -1e-07\n",
      "  warnings.warn(\"the float32 number {} will be truncated to {}\".format(neg_max, -min_positive_val))\n",
      "/Users/david/Documents/GlaDOS/.venv/lib/python3.12/site-packages/onnxconverter_common/float16.py:43: UserWarning: the float32 number 9.239508713676514e-09 will be truncated to 1e-07\n",
      "  warnings.warn(\"the float32 number {} will be truncated to {}\".format(pos_min, min_positive_val))\n",
      "/Users/david/Documents/GlaDOS/.venv/lib/python3.12/site-packages/onnxconverter_common/float16.py:53: UserWarning: the float32 number -9.26380661070425e-09 will be truncated to -1e-07\n",
      "  warnings.warn(\"the float32 number {} will be truncated to {}\".format(neg_max, -min_positive_val))\n",
      "/Users/david/Documents/GlaDOS/.venv/lib/python3.12/site-packages/onnxconverter_common/float16.py:43: UserWarning: the float32 number 5.633883137790008e-09 will be truncated to 1e-07\n",
      "  warnings.warn(\"the float32 number {} will be truncated to {}\".format(pos_min, min_positive_val))\n",
      "/Users/david/Documents/GlaDOS/.venv/lib/python3.12/site-packages/onnxconverter_common/float16.py:53: UserWarning: the float32 number -9.58793378025291e-10 will be truncated to -1e-07\n",
      "  warnings.warn(\"the float32 number {} will be truncated to {}\".format(neg_max, -min_positive_val))\n",
      "/Users/david/Documents/GlaDOS/.venv/lib/python3.12/site-packages/onnxconverter_common/float16.py:43: UserWarning: the float32 number 4.393361763277426e-08 will be truncated to 1e-07\n",
      "  warnings.warn(\"the float32 number {} will be truncated to {}\".format(pos_min, min_positive_val))\n",
      "/Users/david/Documents/GlaDOS/.venv/lib/python3.12/site-packages/onnxconverter_common/float16.py:53: UserWarning: the float32 number -5.988197671058515e-08 will be truncated to -1e-07\n",
      "  warnings.warn(\"the float32 number {} will be truncated to {}\".format(neg_max, -min_positive_val))\n",
      "/Users/david/Documents/GlaDOS/.venv/lib/python3.12/site-packages/onnxconverter_common/float16.py:43: UserWarning: the float32 number 1.4737429943068037e-08 will be truncated to 1e-07\n",
      "  warnings.warn(\"the float32 number {} will be truncated to {}\".format(pos_min, min_positive_val))\n",
      "/Users/david/Documents/GlaDOS/.venv/lib/python3.12/site-packages/onnxconverter_common/float16.py:53: UserWarning: the float32 number -1.7221488235463767e-08 will be truncated to -1e-07\n",
      "  warnings.warn(\"the float32 number {} will be truncated to {}\".format(neg_max, -min_positive_val))\n",
      "/Users/david/Documents/GlaDOS/.venv/lib/python3.12/site-packages/onnxconverter_common/float16.py:53: UserWarning: the float32 number -1.8820903946448198e-08 will be truncated to -1e-07\n",
      "  warnings.warn(\"the float32 number {} will be truncated to {}\".format(neg_max, -min_positive_val))\n",
      "/Users/david/Documents/GlaDOS/.venv/lib/python3.12/site-packages/onnxconverter_common/float16.py:43: UserWarning: the float32 number 1.5602536151959612e-08 will be truncated to 1e-07\n",
      "  warnings.warn(\"the float32 number {} will be truncated to {}\".format(pos_min, min_positive_val))\n",
      "/Users/david/Documents/GlaDOS/.venv/lib/python3.12/site-packages/onnxconverter_common/float16.py:53: UserWarning: the float32 number -3.397900982804458e-08 will be truncated to -1e-07\n",
      "  warnings.warn(\"the float32 number {} will be truncated to {}\".format(neg_max, -min_positive_val))\n",
      "/Users/david/Documents/GlaDOS/.venv/lib/python3.12/site-packages/onnxconverter_common/float16.py:43: UserWarning: the float32 number 1.1918619424733379e-09 will be truncated to 1e-07\n",
      "  warnings.warn(\"the float32 number {} will be truncated to {}\".format(pos_min, min_positive_val))\n",
      "/Users/david/Documents/GlaDOS/.venv/lib/python3.12/site-packages/onnxconverter_common/float16.py:53: UserWarning: the float32 number -2.638040230706906e-09 will be truncated to -1e-07\n",
      "  warnings.warn(\"the float32 number {} will be truncated to {}\".format(neg_max, -min_positive_val))\n",
      "/Users/david/Documents/GlaDOS/.venv/lib/python3.12/site-packages/onnxconverter_common/float16.py:43: UserWarning: the float32 number 2.7411077851979826e-08 will be truncated to 1e-07\n",
      "  warnings.warn(\"the float32 number {} will be truncated to {}\".format(pos_min, min_positive_val))\n",
      "/Users/david/Documents/GlaDOS/.venv/lib/python3.12/site-packages/onnxconverter_common/float16.py:53: UserWarning: the float32 number -3.020115002527746e-08 will be truncated to -1e-07\n",
      "  warnings.warn(\"the float32 number {} will be truncated to {}\".format(neg_max, -min_positive_val))\n",
      "/Users/david/Documents/GlaDOS/.venv/lib/python3.12/site-packages/onnxconverter_common/float16.py:53: UserWarning: the float32 number -3.844381879503089e-08 will be truncated to -1e-07\n",
      "  warnings.warn(\"the float32 number {} will be truncated to {}\".format(neg_max, -min_positive_val))\n",
      "/Users/david/Documents/GlaDOS/.venv/lib/python3.12/site-packages/onnxconverter_common/float16.py:43: UserWarning: the float32 number 4.8866379692702466e-11 will be truncated to 1e-07\n",
      "  warnings.warn(\"the float32 number {} will be truncated to {}\".format(pos_min, min_positive_val))\n",
      "/Users/david/Documents/GlaDOS/.venv/lib/python3.12/site-packages/onnxconverter_common/float16.py:53: UserWarning: the float32 number -2.368790996687409e-10 will be truncated to -1e-07\n",
      "  warnings.warn(\"the float32 number {} will be truncated to {}\".format(neg_max, -min_positive_val))\n",
      "/Users/david/Documents/GlaDOS/.venv/lib/python3.12/site-packages/onnxconverter_common/float16.py:43: UserWarning: the float32 number 6.2524009081244e-08 will be truncated to 1e-07\n",
      "  warnings.warn(\"the float32 number {} will be truncated to {}\".format(pos_min, min_positive_val))\n",
      "/Users/david/Documents/GlaDOS/.venv/lib/python3.12/site-packages/onnxconverter_common/float16.py:53: UserWarning: the float32 number -8.325753952931336e-08 will be truncated to -1e-07\n",
      "  warnings.warn(\"the float32 number {} will be truncated to {}\".format(neg_max, -min_positive_val))\n",
      "/Users/david/Documents/GlaDOS/.venv/lib/python3.12/site-packages/onnxconverter_common/float16.py:43: UserWarning: the float32 number 6.814563136003926e-09 will be truncated to 1e-07\n",
      "  warnings.warn(\"the float32 number {} will be truncated to {}\".format(pos_min, min_positive_val))\n",
      "/Users/david/Documents/GlaDOS/.venv/lib/python3.12/site-packages/onnxconverter_common/float16.py:53: UserWarning: the float32 number -7.547624747417103e-09 will be truncated to -1e-07\n",
      "  warnings.warn(\"the float32 number {} will be truncated to {}\".format(neg_max, -min_positive_val))\n",
      "/Users/david/Documents/GlaDOS/.venv/lib/python3.12/site-packages/onnxconverter_common/float16.py:43: UserWarning: the float32 number 1.0521760129833524e-09 will be truncated to 1e-07\n",
      "  warnings.warn(\"the float32 number {} will be truncated to {}\".format(pos_min, min_positive_val))\n",
      "/Users/david/Documents/GlaDOS/.venv/lib/python3.12/site-packages/onnxconverter_common/float16.py:53: UserWarning: the float32 number -3.6957215066024673e-09 will be truncated to -1e-07\n",
      "  warnings.warn(\"the float32 number {} will be truncated to {}\".format(neg_max, -min_positive_val))\n",
      "/Users/david/Documents/GlaDOS/.venv/lib/python3.12/site-packages/onnxconverter_common/float16.py:43: UserWarning: the float32 number 1.248817405041791e-08 will be truncated to 1e-07\n",
      "  warnings.warn(\"the float32 number {} will be truncated to {}\".format(pos_min, min_positive_val))\n",
      "/Users/david/Documents/GlaDOS/.venv/lib/python3.12/site-packages/onnxconverter_common/float16.py:53: UserWarning: the float32 number -2.5030752581756133e-08 will be truncated to -1e-07\n",
      "  warnings.warn(\"the float32 number {} will be truncated to {}\".format(neg_max, -min_positive_val))\n",
      "/Users/david/Documents/GlaDOS/.venv/lib/python3.12/site-packages/onnxconverter_common/float16.py:43: UserWarning: the float32 number 1.0735590194599354e-08 will be truncated to 1e-07\n",
      "  warnings.warn(\"the float32 number {} will be truncated to {}\".format(pos_min, min_positive_val))\n",
      "/Users/david/Documents/GlaDOS/.venv/lib/python3.12/site-packages/onnxconverter_common/float16.py:53: UserWarning: the float32 number -3.699824446812272e-08 will be truncated to -1e-07\n",
      "  warnings.warn(\"the float32 number {} will be truncated to {}\".format(neg_max, -min_positive_val))\n",
      "/Users/david/Documents/GlaDOS/.venv/lib/python3.12/site-packages/onnxconverter_common/float16.py:43: UserWarning: the float32 number 5.398722802141265e-09 will be truncated to 1e-07\n",
      "  warnings.warn(\"the float32 number {} will be truncated to {}\".format(pos_min, min_positive_val))\n",
      "/Users/david/Documents/GlaDOS/.venv/lib/python3.12/site-packages/onnxconverter_common/float16.py:53: UserWarning: the float32 number -1.970041685339652e-09 will be truncated to -1e-07\n",
      "  warnings.warn(\"the float32 number {} will be truncated to {}\".format(neg_max, -min_positive_val))\n",
      "/Users/david/Documents/GlaDOS/.venv/lib/python3.12/site-packages/onnxconverter_common/float16.py:53: UserWarning: the float32 number -4.567231570717922e-08 will be truncated to -1e-07\n",
      "  warnings.warn(\"the float32 number {} will be truncated to {}\".format(neg_max, -min_positive_val))\n",
      "/Users/david/Documents/GlaDOS/.venv/lib/python3.12/site-packages/onnxconverter_common/float16.py:43: UserWarning: the float32 number 1.8169485471730695e-08 will be truncated to 1e-07\n",
      "  warnings.warn(\"the float32 number {} will be truncated to {}\".format(pos_min, min_positive_val))\n",
      "/Users/david/Documents/GlaDOS/.venv/lib/python3.12/site-packages/onnxconverter_common/float16.py:53: UserWarning: the float32 number -4.980476031590797e-10 will be truncated to -1e-07\n",
      "  warnings.warn(\"the float32 number {} will be truncated to {}\".format(neg_max, -min_positive_val))\n",
      "/Users/david/Documents/GlaDOS/.venv/lib/python3.12/site-packages/onnxconverter_common/float16.py:43: UserWarning: the float32 number 6.205838332107305e-08 will be truncated to 1e-07\n",
      "  warnings.warn(\"the float32 number {} will be truncated to {}\".format(pos_min, min_positive_val))\n",
      "/Users/david/Documents/GlaDOS/.venv/lib/python3.12/site-packages/onnxconverter_common/float16.py:53: UserWarning: the float32 number -9.019950653055275e-08 will be truncated to -1e-07\n",
      "  warnings.warn(\"the float32 number {} will be truncated to {}\".format(neg_max, -min_positive_val))\n",
      "/Users/david/Documents/GlaDOS/.venv/lib/python3.12/site-packages/onnxconverter_common/float16.py:43: UserWarning: the float32 number 3.6135115732971457e-11 will be truncated to 1e-07\n",
      "  warnings.warn(\"the float32 number {} will be truncated to {}\".format(pos_min, min_positive_val))\n",
      "/Users/david/Documents/GlaDOS/.venv/lib/python3.12/site-packages/onnxconverter_common/float16.py:53: UserWarning: the float32 number -3.4207179311351865e-09 will be truncated to -1e-07\n",
      "  warnings.warn(\"the float32 number {} will be truncated to {}\".format(neg_max, -min_positive_val))\n",
      "/Users/david/Documents/GlaDOS/.venv/lib/python3.12/site-packages/onnxconverter_common/float16.py:43: UserWarning: the float32 number 4.21746904066822e-08 will be truncated to 1e-07\n",
      "  warnings.warn(\"the float32 number {} will be truncated to {}\".format(pos_min, min_positive_val))\n",
      "/Users/david/Documents/GlaDOS/.venv/lib/python3.12/site-packages/onnxconverter_common/float16.py:53: UserWarning: the float32 number -6.289253207114598e-08 will be truncated to -1e-07\n",
      "  warnings.warn(\"the float32 number {} will be truncated to {}\".format(neg_max, -min_positive_val))\n",
      "/Users/david/Documents/GlaDOS/.venv/lib/python3.12/site-packages/onnxconverter_common/float16.py:43: UserWarning: the float32 number 2.7263020285772654e-08 will be truncated to 1e-07\n",
      "  warnings.warn(\"the float32 number {} will be truncated to {}\".format(pos_min, min_positive_val))\n",
      "/Users/david/Documents/GlaDOS/.venv/lib/python3.12/site-packages/onnxconverter_common/float16.py:53: UserWarning: the float32 number -1.6574249528389373e-08 will be truncated to -1e-07\n",
      "  warnings.warn(\"the float32 number {} will be truncated to {}\".format(neg_max, -min_positive_val))\n"
     ]
    }
   ],
   "source": [
    "# Load and convert the model\n",
    "model = onnx.load(\"models/glados.onnx\")\n",
    "model_fp16 = convert_float_to_float16(model)\n",
    "onnx.save_model(model_fp16, \"models/glados_fp16.onnx\")"
   ]
  },
  {
   "cell_type": "code",
   "execution_count": 6,
   "metadata": {},
   "outputs": [
    {
     "name": "stdout",
     "output_type": "stream",
     "text": [
      "Config file copied to models/glados_fp16.onnx.json\n"
     ]
    }
   ],
   "source": [
    "import shutil\n",
    "import os\n",
    "\n",
    "# First do the model conversion\n",
    "def convert_model_with_config(original_model_path, fp16_model_path):\n",
    "    # Convert model as before\n",
    "    import onnx\n",
    "    from onnxconverter_common import float16\n",
    "    \n",
    "    model = onnx.load(original_model_path)\n",
    "    excluded_ops = {\n",
    "        'RandomNormalLike',\n",
    "        'Range',\n",
    "        'Constant'\n",
    "    }\n",
    "    \n",
    "    model_fp16 = float16.convert_float_to_float16(\n",
    "        model,\n",
    "        keep_io_types=True,\n",
    "        op_block_list=excluded_ops\n",
    "    )\n",
    "    \n",
    "    # Save the FP16 model\n",
    "    onnx.save_model(model_fp16, fp16_model_path)\n",
    "    \n",
    "    # Copy the config file\n",
    "    original_config = original_model_path + '.json'\n",
    "    new_config = fp16_model_path + '.json'\n",
    "    \n",
    "    if os.path.exists(original_config):\n",
    "        shutil.copy2(original_config, new_config)\n",
    "        print(f\"Config file copied to {new_config}\")\n",
    "    else:\n",
    "        print(f\"Warning: Original config file {original_config} not found\")\n",
    "\n",
    "# Use the function\n",
    "convert_model_with_config(\n",
    "    \"models/glados.onnx\",\n",
    "    \"models/glados_fp16.onnx\"\n",
    ")"
   ]
  },
  {
   "cell_type": "code",
   "execution_count": 3,
   "metadata": {},
   "outputs": [
    {
     "name": "stderr",
     "output_type": "stream",
     "text": [
      "/Users/david/Documents/GlaDOS/.venv/lib/python3.12/site-packages/onnxconverter_common/float16.py:43: UserWarning: the float32 number 8.97041516623176e-08 will be truncated to 1e-07\n",
      "  warnings.warn(\"the float32 number {} will be truncated to {}\".format(pos_min, min_positive_val))\n",
      "/Users/david/Documents/GlaDOS/.venv/lib/python3.12/site-packages/onnxconverter_common/float16.py:53: UserWarning: the float32 number -3.464308662159965e-08 will be truncated to -1e-07\n",
      "  warnings.warn(\"the float32 number {} will be truncated to {}\".format(neg_max, -min_positive_val))\n",
      "/Users/david/Documents/GlaDOS/.venv/lib/python3.12/site-packages/onnxconverter_common/float16.py:43: UserWarning: the float32 number 7.87984362204952e-08 will be truncated to 1e-07\n",
      "  warnings.warn(\"the float32 number {} will be truncated to {}\".format(pos_min, min_positive_val))\n",
      "/Users/david/Documents/GlaDOS/.venv/lib/python3.12/site-packages/onnxconverter_common/float16.py:43: UserWarning: the float32 number 6.399221774699981e-08 will be truncated to 1e-07\n",
      "  warnings.warn(\"the float32 number {} will be truncated to {}\".format(pos_min, min_positive_val))\n",
      "/Users/david/Documents/GlaDOS/.venv/lib/python3.12/site-packages/onnxconverter_common/float16.py:53: UserWarning: the float32 number -3.4167754847658216e-08 will be truncated to -1e-07\n",
      "  warnings.warn(\"the float32 number {} will be truncated to {}\".format(neg_max, -min_positive_val))\n",
      "/Users/david/Documents/GlaDOS/.venv/lib/python3.12/site-packages/onnxconverter_common/float16.py:43: UserWarning: the float32 number 3.9314826949521375e-08 will be truncated to 1e-07\n",
      "  warnings.warn(\"the float32 number {} will be truncated to {}\".format(pos_min, min_positive_val))\n",
      "/Users/david/Documents/GlaDOS/.venv/lib/python3.12/site-packages/onnxconverter_common/float16.py:43: UserWarning: the float32 number 8.418167496415663e-09 will be truncated to 1e-07\n",
      "  warnings.warn(\"the float32 number {} will be truncated to {}\".format(pos_min, min_positive_val))\n",
      "/Users/david/Documents/GlaDOS/.venv/lib/python3.12/site-packages/onnxconverter_common/float16.py:53: UserWarning: the float32 number -6.88289176764556e-08 will be truncated to -1e-07\n",
      "  warnings.warn(\"the float32 number {} will be truncated to {}\".format(neg_max, -min_positive_val))\n",
      "/Users/david/Documents/GlaDOS/.venv/lib/python3.12/site-packages/onnxconverter_common/float16.py:53: UserWarning: the float32 number -2.5894525634839738e-08 will be truncated to -1e-07\n",
      "  warnings.warn(\"the float32 number {} will be truncated to {}\".format(neg_max, -min_positive_val))\n",
      "/Users/david/Documents/GlaDOS/.venv/lib/python3.12/site-packages/onnxconverter_common/float16.py:53: UserWarning: the float32 number -1.0662996707822003e-08 will be truncated to -1e-07\n",
      "  warnings.warn(\"the float32 number {} will be truncated to {}\".format(neg_max, -min_positive_val))\n",
      "/Users/david/Documents/GlaDOS/.venv/lib/python3.12/site-packages/onnxconverter_common/float16.py:53: UserWarning: the float32 number -1.1916338138462379e-08 will be truncated to -1e-07\n",
      "  warnings.warn(\"the float32 number {} will be truncated to {}\".format(neg_max, -min_positive_val))\n",
      "/Users/david/Documents/GlaDOS/.venv/lib/python3.12/site-packages/onnxconverter_common/float16.py:53: UserWarning: the float32 number -1.9400955508785955e-08 will be truncated to -1e-07\n",
      "  warnings.warn(\"the float32 number {} will be truncated to {}\".format(neg_max, -min_positive_val))\n",
      "/Users/david/Documents/GlaDOS/.venv/lib/python3.12/site-packages/onnxconverter_common/float16.py:43: UserWarning: the float32 number 7.549562752728889e-08 will be truncated to 1e-07\n",
      "  warnings.warn(\"the float32 number {} will be truncated to {}\".format(pos_min, min_positive_val))\n",
      "/Users/david/Documents/GlaDOS/.venv/lib/python3.12/site-packages/onnxconverter_common/float16.py:43: UserWarning: the float32 number 2.7859506701588543e-08 will be truncated to 1e-07\n",
      "  warnings.warn(\"the float32 number {} will be truncated to {}\".format(pos_min, min_positive_val))\n",
      "/Users/david/Documents/GlaDOS/.venv/lib/python3.12/site-packages/onnxconverter_common/float16.py:43: UserWarning: the float32 number 9.119032284843342e-08 will be truncated to 1e-07\n",
      "  warnings.warn(\"the float32 number {} will be truncated to {}\".format(pos_min, min_positive_val))\n",
      "/Users/david/Documents/GlaDOS/.venv/lib/python3.12/site-packages/onnxconverter_common/float16.py:43: UserWarning: the float32 number 3.0084785773709655e-09 will be truncated to 1e-07\n",
      "  warnings.warn(\"the float32 number {} will be truncated to {}\".format(pos_min, min_positive_val))\n",
      "/Users/david/Documents/GlaDOS/.venv/lib/python3.12/site-packages/onnxconverter_common/float16.py:43: UserWarning: the float32 number 6.736842639298857e-09 will be truncated to 1e-07\n",
      "  warnings.warn(\"the float32 number {} will be truncated to {}\".format(pos_min, min_positive_val))\n",
      "/Users/david/Documents/GlaDOS/.venv/lib/python3.12/site-packages/onnxconverter_common/float16.py:53: UserWarning: the float32 number -8.973132281653307e-08 will be truncated to -1e-07\n",
      "  warnings.warn(\"the float32 number {} will be truncated to {}\".format(neg_max, -min_positive_val))\n",
      "/Users/david/Documents/GlaDOS/.venv/lib/python3.12/site-packages/onnxconverter_common/float16.py:43: UserWarning: the float32 number 7.517071409779419e-09 will be truncated to 1e-07\n",
      "  warnings.warn(\"the float32 number {} will be truncated to {}\".format(pos_min, min_positive_val))\n",
      "/Users/david/Documents/GlaDOS/.venv/lib/python3.12/site-packages/onnxconverter_common/float16.py:53: UserWarning: the float32 number -8.357742942166624e-09 will be truncated to -1e-07\n",
      "  warnings.warn(\"the float32 number {} will be truncated to {}\".format(neg_max, -min_positive_val))\n",
      "/Users/david/Documents/GlaDOS/.venv/lib/python3.12/site-packages/onnxconverter_common/float16.py:50: UserWarning: the float32 number -inf will be truncated to -10000.0\n",
      "  warnings.warn(\"the float32 number {} will be truncated to {}\".format(neg_min, -max_finite_val))\n"
     ]
    }
   ],
   "source": [
    "# Load and convert the model\n",
    "model = onnx.load(\"models/phomenizer_en.onnx\")\n",
    "model_fp16 = convert_float_to_float16(model)\n",
    "onnx.save_model(model_fp16, \"models/phomenizer_en_fp16.onnx\")\n",
    "\n"
   ]
  },
  {
   "cell_type": "code",
   "execution_count": 15,
   "metadata": {},
   "outputs": [
    {
     "name": "stderr",
     "output_type": "stream",
     "text": [
      "WARNING:root:Please consider to run pre-processing before quantization. Refer to example: https://github.com/microsoft/onnxruntime-inference-examples/blob/main/quantization/image_classification/cpu/ReadMe.md \n"
     ]
    },
    {
     "name": "stdout",
     "output_type": "stream",
     "text": [
      "Saved FP16 model to models/quantized/phomenizer_en_fp16.onnx\n"
     ]
    },
    {
     "name": "stderr",
     "output_type": "stream",
     "text": [
      "WARNING:root:Please consider to run pre-processing before quantization. Refer to example: https://github.com/microsoft/onnxruntime-inference-examples/blob/main/quantization/image_classification/cpu/ReadMe.md \n"
     ]
    },
    {
     "name": "stdout",
     "output_type": "stream",
     "text": [
      "Saved INT8 model to models/quantized/phomenizer_en_int8.onnx\n",
      "Saved INT4 model to models/quantized/phomenizer_en_int4.onnx\n",
      "\n",
      "Verifying model: models/quantized/phomenizer_en_fp16.onnx\n",
      "Input 'modelInput' type: 7\n",
      "\n",
      "Verifying model: models/quantized/phomenizer_en_int8.onnx\n",
      "Input 'modelInput' type: 7\n",
      "\n",
      "Verifying model: models/quantized/phomenizer_en_int4.onnx\n",
      "Input 'modelInput' type: 7\n"
     ]
    }
   ],
   "source": [
    "import onnx\n",
    "import warnings\n",
    "from onnxconverter_common import float16\n",
    "from onnxruntime.quantization import quantize_dynamic, QuantType\n",
    "from onnxruntime.quantization.quant_utils import QuantizationMode\n",
    "\n",
    "def get_audio_input_name(model_path):\n",
    "    \"\"\"\n",
    "    Get the name of the audio input node from the ONNX model.\n",
    "    \n",
    "    Args:\n",
    "        model_path: Path to the ONNX model\n",
    "    Returns:\n",
    "        str: Name of the audio input node\n",
    "    \"\"\"\n",
    "    model = onnx.load(model_path)\n",
    "    # Usually the first input is the audio input\n",
    "    audio_input = model.graph.input[0].name\n",
    "    return audio_input\n",
    "\n",
    "def quantize_model(input_path, output_dir):\n",
    "    \"\"\"\n",
    "    Quantize an ONNX model to different precision formats while keeping audio input as FP32.\n",
    "    \n",
    "    Args:\n",
    "        input_path: Path to the input ONNX model\n",
    "        output_dir: Directory to save quantized models\n",
    "    \"\"\"\n",
    "    # Load the original model\n",
    "    model = onnx.load(input_path)\n",
    "    model_name = input_path.split('/')[-1].replace('.onnx', '')\n",
    "    \n",
    "    # Get the audio input name\n",
    "    audio_input_name = get_audio_input_name(input_path)\n",
    "    \n",
    "    # FP16 conversion with preserved FP32 input\n",
    "    with warnings.catch_warnings():\n",
    "        warnings.filterwarnings(\"ignore\", category=UserWarning, module=\"onnxconverter_common.float16\")\n",
    "        # Specify which nodes should remain in FP32\n",
    "        model_fp16 = float16.convert_float_to_float16(\n",
    "            model,\n",
    "            keep_io_types=True,  # Keep input/output types as is\n",
    "            op_block_list=[audio_input_name]  # Keep audio input in FP32\n",
    "        )\n",
    "        fp16_path = f\"{output_dir}/{model_name}_fp16.onnx\"\n",
    "        onnx.save_model(model_fp16, fp16_path)\n",
    "        print(f\"Saved FP16 model to {fp16_path}\")\n",
    "\n",
    "    # INT8 quantization\n",
    "    int8_path = f\"{output_dir}/{model_name}_int8.onnx\"\n",
    "    quantize_dynamic(\n",
    "        input_path,\n",
    "        int8_path,\n",
    "        weight_type=QuantType.QInt8,\n",
    "        op_types_to_quantize=['Conv', 'MatMul'],  # Quantize only specific operations\n",
    "        nodes_to_exclude=[audio_input_name]  # Exclude audio input from quantization\n",
    "    )\n",
    "    print(f\"Saved INT8 model to {int8_path}\")\n",
    "    \n",
    "    # INT4 quantization (experimental)\n",
    "    try:\n",
    "        int4_path = f\"{output_dir}/{model_name}_int4.onnx\"\n",
    "        quantize_dynamic(\n",
    "            input_path,\n",
    "            int4_path,\n",
    "            weight_type=QuantType.QInt4,\n",
    "            op_types_to_quantize=['Conv', 'MatMul'],\n",
    "            nodes_to_exclude=[audio_input_name]\n",
    "        )\n",
    "        print(f\"Saved INT4 model to {int4_path}\")\n",
    "    except Exception as e:\n",
    "        print(f\"INT4 quantization failed: {str(e)}\")\n",
    "        print(\"Note: INT4 quantization is experimental and may not be supported for this model\")\n",
    "\n",
    "def verify_model_inputs(model_path):\n",
    "    \"\"\"\n",
    "    Verify the input types of the quantized model.\n",
    "    \n",
    "    Args:\n",
    "        model_path: Path to the ONNX model\n",
    "    \"\"\"\n",
    "    model = onnx.load(model_path)\n",
    "    print(f\"\\nVerifying model: {model_path}\")\n",
    "    for input_info in model.graph.input:\n",
    "        print(f\"Input '{input_info.name}' type: {input_info.type.tensor_type.elem_type}\")\n",
    "        # ONNX element type 1 corresponds to FLOAT\n",
    "\n",
    "if __name__ == \"__main__\":\n",
    "    input_model = \"models/phomenizer_en.onnx\"\n",
    "    output_dir = \"models/quantized\"\n",
    "    \n",
    "    quantize_model(input_model, output_dir)\n",
    "    \n",
    "    # Verify the quantized models\n",
    "    for model_type in ['fp16', 'int8', 'int4']:\n",
    "        try:\n",
    "            verify_model_inputs(f\"{output_dir}/{input_model.split('/')[-1].replace('.onnx', '')}_{model_type}.onnx\")\n",
    "        except Exception as e:\n",
    "            print(f\"Could not verify {model_type} model: {str(e)}\")"
   ]
  },
  {
   "cell_type": "code",
   "execution_count": 16,
   "metadata": {},
   "outputs": [
    {
     "name": "stdout",
     "output_type": "stream",
     "text": [
      "Saved FP16 model to models/quantized/glados_fp16.onnx\n"
     ]
    },
    {
     "name": "stderr",
     "output_type": "stream",
     "text": [
      "WARNING:root:Please consider to run pre-processing before quantization. Refer to example: https://github.com/microsoft/onnxruntime-inference-examples/blob/main/quantization/image_classification/cpu/ReadMe.md \n"
     ]
    },
    {
     "name": "stdout",
     "output_type": "stream",
     "text": [
      "Saved INT8 model to models/quantized/glados_int8.onnx\n"
     ]
    },
    {
     "name": "stderr",
     "output_type": "stream",
     "text": [
      "WARNING:root:Please consider to run pre-processing before quantization. Refer to example: https://github.com/microsoft/onnxruntime-inference-examples/blob/main/quantization/image_classification/cpu/ReadMe.md \n"
     ]
    },
    {
     "name": "stdout",
     "output_type": "stream",
     "text": [
      "Saved INT4 model to models/quantized/glados_int4.onnx\n"
     ]
    }
   ],
   "source": [
    "\n",
    "input_model = \"models/glados.onnx\"\n",
    "output_dir = \"models/quantized\"\n",
    "\n",
    "quantize_model(input_model, output_dir)"
   ]
  },
  {
   "cell_type": "code",
   "execution_count": 17,
   "metadata": {},
   "outputs": [
    {
     "name": "stdout",
     "output_type": "stream",
     "text": [
      "Saved FP16 model to models/quantized/nemo-parakeet_tdt_ctc_110m_fp16.onnx\n"
     ]
    },
    {
     "name": "stderr",
     "output_type": "stream",
     "text": [
      "WARNING:root:Please consider to run pre-processing before quantization. Refer to example: https://github.com/microsoft/onnxruntime-inference-examples/blob/main/quantization/image_classification/cpu/ReadMe.md \n"
     ]
    },
    {
     "name": "stdout",
     "output_type": "stream",
     "text": [
      "Saved INT8 model to models/quantized/nemo-parakeet_tdt_ctc_110m_int8.onnx\n"
     ]
    },
    {
     "name": "stderr",
     "output_type": "stream",
     "text": [
      "WARNING:root:Please consider to run pre-processing before quantization. Refer to example: https://github.com/microsoft/onnxruntime-inference-examples/blob/main/quantization/image_classification/cpu/ReadMe.md \n"
     ]
    },
    {
     "name": "stdout",
     "output_type": "stream",
     "text": [
      "Saved INT4 model to models/quantized/nemo-parakeet_tdt_ctc_110m_int4.onnx\n"
     ]
    }
   ],
   "source": [
    "\n",
    "\n",
    "\n",
    "input_model = \"models/nemo-parakeet_tdt_ctc_110m.onnx\"\n",
    "output_dir = \"models/quantized\"\n",
    "\n",
    "quantize_model(input_model, output_dir)"
   ]
  },
  {
   "cell_type": "code",
   "execution_count": null,
   "metadata": {},
   "outputs": [],
   "source": []
  }
 ],
 "metadata": {
  "kernelspec": {
   "display_name": ".venv",
   "language": "python",
   "name": "python3"
  },
  "language_info": {
   "codemirror_mode": {
    "name": "ipython",
    "version": 3
   },
   "file_extension": ".py",
   "mimetype": "text/x-python",
   "name": "python",
   "nbconvert_exporter": "python",
   "pygments_lexer": "ipython3",
   "version": "3.12.8"
  }
 },
 "nbformat": 4,
 "nbformat_minor": 2
}
